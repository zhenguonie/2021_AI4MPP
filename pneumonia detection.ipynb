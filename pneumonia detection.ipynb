{
 "cells": [
  {
   "cell_type": "code",
   "execution_count": 32,
   "metadata": {},
   "outputs": [],
   "source": [
    "# read in the necessary packages\n",
    "import pandas as pd\n",
    "import numpy as np\n",
    "from sklearn.multiclass import OneVsRestClassifier\n",
    "from sklearn.svm import LinearSVC\n",
    "from sklearn import tree\n",
    "from sklearn.linear_model import LogisticRegression\n",
    "from sklearn.ensemble import GradientBoostingClassifier\n",
    "from sklearn.model_selection import train_test_split\n",
    "from sklearn.metrics import precision_recall_fscore_support\n",
    "from sklearn.metrics import accuracy_score\n"
   ]
  },
  {
   "cell_type": "code",
   "execution_count": 33,
   "metadata": {},
   "outputs": [],
   "source": [
    "import warnings\n",
    "warnings.filterwarnings('ignore')"
   ]
  },
  {
   "cell_type": "code",
   "execution_count": 34,
   "metadata": {
    "tags": []
   },
   "outputs": [],
   "source": [
    "# read in the dataset\n",
    "dataset = pd.read_excel('dataset2.xlsx',converters={'Medical result（0 No；1 mild；2 severe）':int})\n",
    "\n",
    "# fill in the missing value with 0\n",
    "col_set = dataset.columns\n",
    "for column in col_set :\n",
    "    dataset[column].fillna(0, inplace = True)\n",
    "\n",
    "# split the target variable and trainning features\n",
    "X = dataset.iloc[:,:-1]\n",
    "y = dataset['Medical result（0 No；1 mild；2 severe）']\n",
    "X_train, X_test, Y_train, Y_test = train_test_split(X, y, test_size=0.1, random_state=1)"
   ]
  },
  {
   "cell_type": "code",
   "execution_count": 35,
   "metadata": {},
   "outputs": [],
   "source": [
    "# Decision Tree Classifier\n",
    "model_tree = OneVsRestClassifier(tree.DecisionTreeClassifier()).fit(X_train,Y_train)\n",
    "y_predict_tree = model_tree.predict(X_test)\n",
    "\n",
    "# Logistics Regression Classifier\n",
    "model_logistic = OneVsRestClassifier(LogisticRegression(penalty='l2')).fit(X_train,Y_train)\n",
    "y_predict_logistic = model_logistic.predict(X_test)\n",
    "\n",
    "# Gradient Boosting Decision Tree Classifier\n",
    "model_GBDT = OneVsRestClassifier(GradientBoostingClassifier(n_estimators=300)).fit(X_train,Y_train)\n",
    "y_predict_GBDT = model_GBDT.predict(X_test)\n",
    "\n",
    "# Support Vector CLassifier\n",
    "model_SVC = OneVsRestClassifier(LinearSVC(random_state = 0)).fit(X_train,Y_train)\n",
    "y_predict_SVC = model_SVC.predict(X_test)\n"
   ]
  },
  {
   "cell_type": "code",
   "execution_count": 36,
   "metadata": {},
   "outputs": [
    {
     "data": {
      "text/plain": [
       "0.6105263157894737"
      ]
     },
     "execution_count": 36,
     "metadata": {},
     "output_type": "execute_result"
    }
   ],
   "source": [
    "from sklearn.neighbors import KNeighborsClassifier\n",
    "\n",
    "model_knn =OneVsRestClassifier(KNeighborsClassifier())\n",
    "y_predict_knn = model_knn.fit(X_train,Y_train).predict(X_test)\n",
    "\n",
    "np.mean(y_predict_knn==Y_test)"
   ]
  },
  {
   "cell_type": "code",
   "execution_count": 37,
   "metadata": {},
   "outputs": [
    {
     "data": {
      "text/plain": [
       "(array([0.85714286, 0.92982456, 1.        ]),\n",
       " array([0.9       , 0.94642857, 0.89473684]),\n",
       " array([0.87804878, 0.9380531 , 0.94444444]),\n",
       " array([20, 56, 19], dtype=int64))"
      ]
     },
     "execution_count": 37,
     "metadata": {},
     "output_type": "execute_result"
    }
   ],
   "source": [
    "\n",
    "precision_recall_fscore_support(Y_test, y_predict_GBDT, average=None)"
   ]
  },
  {
   "cell_type": "code",
   "execution_count": 38,
   "metadata": {},
   "outputs": [
    {
     "data": {
      "text/plain": [
       "(array([0.875     , 0.63855422, 0.5       ]),\n",
       " array([0.35      , 0.94642857, 0.10526316]),\n",
       " array([0.5       , 0.76258993, 0.17391304]),\n",
       " array([20, 56, 19], dtype=int64))"
      ]
     },
     "execution_count": 38,
     "metadata": {},
     "output_type": "execute_result"
    }
   ],
   "source": [
    "\n",
    "precision_recall_fscore_support(Y_test, y_predict_SVC, average=None)"
   ]
  },
  {
   "cell_type": "code",
   "execution_count": 39,
   "metadata": {},
   "outputs": [
    {
     "data": {
      "text/plain": [
       "(array([0.83333333, 0.9245283 , 0.75      ]),\n",
       " array([0.75      , 0.875     , 0.94736842]),\n",
       " array([0.78947368, 0.89908257, 0.8372093 ]),\n",
       " array([20, 56, 19], dtype=int64))"
      ]
     },
     "execution_count": 39,
     "metadata": {},
     "output_type": "execute_result"
    }
   ],
   "source": [
    "\n",
    "precision_recall_fscore_support(Y_test, y_predict_tree, average=None)"
   ]
  },
  {
   "cell_type": "code",
   "execution_count": 40,
   "metadata": {},
   "outputs": [
    {
     "data": {
      "text/plain": [
       "(array([0.6875    , 0.70422535, 0.625     ]),\n",
       " array([0.55      , 0.89285714, 0.26315789]),\n",
       " array([0.61111111, 0.78740157, 0.37037037]),\n",
       " array([20, 56, 19], dtype=int64))"
      ]
     },
     "execution_count": 40,
     "metadata": {},
     "output_type": "execute_result"
    }
   ],
   "source": [
    "\n",
    "precision_recall_fscore_support(Y_test, y_predict_logistic, average=None)"
   ]
  },
  {
   "cell_type": "code",
   "execution_count": 41,
   "metadata": {},
   "outputs": [
    {
     "data": {
      "text/plain": [
       "(array([0.55555556, 0.64864865, 0.41666667]),\n",
       " array([0.25      , 0.85714286, 0.26315789]),\n",
       " array([0.34482759, 0.73846154, 0.32258065]),\n",
       " array([20, 56, 19], dtype=int64))"
      ]
     },
     "execution_count": 41,
     "metadata": {},
     "output_type": "execute_result"
    }
   ],
   "source": [
    "\n",
    "from sklearn.metrics import precision_recall_fscore_support\n",
    "from sklearn.metrics import accuracy_score\n",
    "precision_recall_fscore_support(Y_test, y_predict_knn, average=None)"
   ]
  },
  {
   "cell_type": "code",
   "execution_count": 42,
   "metadata": {},
   "outputs": [],
   "source": [
    "# prediction accuracy -\n",
    "acc = {'Decision Tree': np.mean(y_predict_tree == Y_test),'Logistics': np.mean(y_predict_logistic == Y_test), 'GBDT': np.mean(y_predict_GBDT == Y_test), 'SVC': np.mean(y_predict_SVC == Y_test)}"
   ]
  },
  {
   "cell_type": "code",
   "execution_count": 43,
   "metadata": {},
   "outputs": [
    {
     "data": {
      "text/plain": [
       "{'Decision Tree': 0.8631578947368421,\n",
       " 'Logistics': 0.6947368421052632,\n",
       " 'GBDT': 0.9263157894736842,\n",
       " 'SVC': 0.6526315789473685}"
      ]
     },
     "execution_count": 43,
     "metadata": {},
     "output_type": "execute_result"
    }
   ],
   "source": [
    "acc"
   ]
  },
  {
   "cell_type": "code",
   "execution_count": 44,
   "metadata": {},
   "outputs": [
    {
     "name": "stdout",
     "output_type": "stream",
     "text": [
      "Baseline: 83.16% (6.14%)\n"
     ]
    }
   ],
   "source": [
    "from sklearn.model_selection import cross_val_score\n",
    "from sklearn.model_selection import KFold\n",
    "# evaluate the model with K-fold cross validation\n",
    "kfold = KFold(n_splits=5, shuffle=True)\n",
    "results = cross_val_score(model_GBDT, X_test,Y_test, cv=kfold)\n",
    "print(\"Baseline: %.2f%% (%.2f%%)\" % (results.mean()*100, results.std()*100))"
   ]
  },
  {
   "cell_type": "code",
   "execution_count": 45,
   "metadata": {},
   "outputs": [
    {
     "name": "stdout",
     "output_type": "stream",
     "text": [
      "Baseline: 81.05% (8.55%)\n"
     ]
    }
   ],
   "source": [
    "from sklearn.model_selection import cross_val_score\n",
    "from sklearn.model_selection import KFold\n",
    "# evaluate the model with K-fold cross validation\n",
    "kfold = KFold(n_splits=5, shuffle=True)\n",
    "results = cross_val_score(model_tree, X_test,Y_test, cv=kfold)\n",
    "print(\"Baseline: %.2f%% (%.2f%%)\" % (results.mean()*100, results.std()*100))"
   ]
  },
  {
   "cell_type": "code",
   "execution_count": 46,
   "metadata": {},
   "outputs": [
    {
     "name": "stdout",
     "output_type": "stream",
     "text": [
      "Baseline: 34.74% (12.28%)\n"
     ]
    }
   ],
   "source": [
    "from sklearn.model_selection import cross_val_score\n",
    "from sklearn.model_selection import KFold\n",
    "# evaluate the model with K-fold cross validation\n",
    "kfold = KFold(n_splits=5, shuffle=True)\n",
    "results = cross_val_score(model_SVC, X_test,Y_test, cv=kfold)\n",
    "print(\"Baseline: %.2f%% (%.2f%%)\" % (results.mean()*100, results.std()*100))"
   ]
  },
  {
   "cell_type": "code",
   "execution_count": 47,
   "metadata": {},
   "outputs": [
    {
     "name": "stdout",
     "output_type": "stream",
     "text": [
      "Baseline: 58.95% (13.06%)\n"
     ]
    }
   ],
   "source": [
    "from sklearn.model_selection import cross_val_score\n",
    "from sklearn.model_selection import KFold\n",
    "# evaluate the model with K-fold cross validation\n",
    "kfold = KFold(n_splits=5, shuffle=True)\n",
    "results = cross_val_score(model_logistic, X_test,Y_test, cv=kfold)\n",
    "print(\"Baseline: %.2f%% (%.2f%%)\" % (results.mean()*100, results.std()*100))"
   ]
  },
  {
   "cell_type": "markdown",
   "metadata": {},
   "source": [
    "## Confusion Matrix"
   ]
  },
  {
   "cell_type": "code",
   "execution_count": 48,
   "metadata": {},
   "outputs": [],
   "source": [
    "# confusion matrix\n",
    "import matplotlib.pyplot as plt\n",
    "from sklearn.metrics import confusion_matrix\n",
    "import seaborn as sn\n",
    "cm_tree = confusion_matrix(Y_test, y_predict_tree, labels=[0,1,2])\n",
    "cm_logistic = confusion_matrix(Y_test, y_predict_logistic, labels=[0,1,2])\n",
    "cm_GBDT = confusion_matrix(Y_test, y_predict_GBDT, labels=[0,1,2])\n",
    "cm_SVC = confusion_matrix(Y_test, y_predict_SVC, labels=[0,1,2])"
   ]
  },
  {
   "cell_type": "code",
   "execution_count": 49,
   "metadata": {},
   "outputs": [
    {
     "data": {
      "image/png": "[encoded data removed]",
      "text/plain": [
       "<Figure size 720x504 with 2 Axes>"
      ]
     },
     "metadata": {
      "needs_background": "light"
     },
     "output_type": "display_data"
    }
   ],
   "source": [
    "# decision tree\n",
    "df_cm = pd.DataFrame(cm_tree, index = [i for i in \"012\"],\n",
    "                  columns = [i for i in \"012\"])\n",
    "plt.figure(figsize = (10,7))\n",
    "ax = sn.heatmap(df_cm, annot=True)\n",
    "bottom, top = ax.get_ylim()\n",
    "ax.set_ylim(bottom + 0.5, top - 0.5)\n",
    "plt.title('Confusion Matrix for Decision Tree Model')\n",
    "plt.ylabel('True')\n",
    "plt.xlabel('Predicted')\n",
    "plt.savefig('confusion_matrix_tree_150', dpi = 150)\n",
    "plt.savefig('confusion_matrix_tree_600', dpi = 600)\n",
    "plt.show()"
   ]
  },
  {
   "cell_type": "code",
   "execution_count": 50,
   "metadata": {},
   "outputs": [
    {
     "data": {
      "image/png": "[encoded data removed]",
      "text/plain": [
       "<Figure size 720x504 with 2 Axes>"
      ]
     },
     "metadata": {
      "needs_background": "light"
     },
     "output_type": "display_data"
    }
   ],
   "source": [
    "# logistic regression\n",
    "df_cm = pd.DataFrame(cm_logistic, index = [i for i in \"012\"],\n",
    "                  columns = [i for i in \"012\"])\n",
    "plt.figure(figsize = (10,7))\n",
    "ax = sn.heatmap(df_cm, annot=True)\n",
    "bottom, top = ax.get_ylim()\n",
    "ax.set_ylim(bottom + 0.5, top - 0.5)\n",
    "plt.title('Confusion Matrix for Logistic Regression')\n",
    "plt.ylabel('True')\n",
    "plt.xlabel('Predicted')\n",
    "plt.savefig('confusion_matrix_logistic_150', dpi = 150)\n",
    "plt.savefig('confusion_matrix_logistic_600', dpi = 600)\n",
    "plt.show()"
   ]
  },
  {
   "cell_type": "code",
   "execution_count": 51,
   "metadata": {},
   "outputs": [
    {
     "data": {
      "image/png": "[encoded data removed]",
      "text/plain": [
       "<Figure size 720x504 with 2 Axes>"
      ]
     },
     "metadata": {
      "needs_background": "light"
     },
     "output_type": "display_data"
    }
   ],
   "source": [
    "# GBDT\n",
    "df_cm = pd.DataFrame(cm_GBDT, index = [i for i in \"012\"],\n",
    "                  columns = [i for i in \"012\"])\n",
    "plt.figure(figsize = (10,7))\n",
    "ax = sn.heatmap(df_cm, annot=True)\n",
    "bottom, top = ax.get_ylim()\n",
    "ax.set_ylim(bottom + 0.5, top - 0.5)\n",
    "plt.title('Confusion Matrix for GBDT')\n",
    "plt.ylabel('True')\n",
    "plt.xlabel('Predicted')\n",
    "plt.savefig('confusion_matrix_GBDT_150', dpi = 150)\n",
    "plt.savefig('confusion_matrix_GBDT_600', dpi = 600)\n",
    "plt.show()"
   ]
  },
  {
   "cell_type": "code",
   "execution_count": 52,
   "metadata": {},
   "outputs": [
    {
     "data": {
      "image/png": "[encoded data removed]",
      "text/plain": [
       "<Figure size 720x504 with 2 Axes>"
      ]
     },
     "metadata": {
      "needs_background": "light"
     },
     "output_type": "display_data"
    }
   ],
   "source": [
    "# SVC\n",
    "df_cm = pd.DataFrame(cm_SVC, index = [i for i in \"012\"],\n",
    "                  columns = [i for i in \"012\"])\n",
    "plt.figure(figsize = (10,7))\n",
    "ax = sn.heatmap(df_cm, annot=True)\n",
    "bottom, top = ax.get_ylim()\n",
    "ax.set_ylim(bottom + 0.5, top - 0.5)\n",
    "plt.title('Confusion Matrix for SVC')\n",
    "plt.ylabel('True')\n",
    "plt.xlabel('Predicted')\n",
    "plt.savefig('confusion_matrix_SVC_150', dpi = 150)\n",
    "plt.savefig('confusion_matrix_SVC_600', dpi = 600)\n",
    "plt.show()"
   ]
  },
  {
   "cell_type": "markdown",
   "metadata": {},
   "source": [
    "## Feature Importance"
   ]
  },
  {
   "cell_type": "code",
   "execution_count": 53,
   "metadata": {},
   "outputs": [],
   "source": [
    "importances = model_tree.estimators_[1].feature_importances_\n",
    "std = np.std([tree.feature_importances_ for tree in model_tree.estimators_],\n",
    "             axis=0)\n",
    "importance_map = {'importance': importances, 'standard deviation': std}\n",
    "importance_df = pd.DataFrame(importance_map, columns = ['importance', 'standard deviation'], index = X.columns)\n",
    "importance_df = importance_df.sort_values('importance', ascending= False)"
   ]
  },
  {
   "cell_type": "code",
   "execution_count": 54,
   "metadata": {},
   "outputs": [
    {
     "data": {
      "text/html": [
       "<div>\n",
       "<style scoped>\n",
       "    .dataframe tbody tr th:only-of-type {\n",
       "        vertical-align: middle;\n",
       "    }\n",
       "\n",
       "    .dataframe tbody tr th {\n",
       "        vertical-align: top;\n",
       "    }\n",
       "\n",
       "    .dataframe thead th {\n",
       "        text-align: right;\n",
       "    }\n",
       "</style>\n",
       "<table border=\"1\" class=\"dataframe\">\n",
       "  <thead>\n",
       "    <tr style=\"text-align: right;\">\n",
       "      <th></th>\n",
       "      <th>importance</th>\n",
       "      <th>standard deviation</th>\n",
       "    </tr>\n",
       "  </thead>\n",
       "  <tbody>\n",
       "    <tr>\n",
       "      <th>Three Concave Sign（&lt;=1/3 is mild；1：multiple lobar involvement are severe）：1 mild；2 severe</th>\n",
       "      <td>0.560946</td>\n",
       "      <td>0.116145</td>\n",
       "    </tr>\n",
       "    <tr>\n",
       "      <th>Cough Nature：0 without cough；1dry cough；2 phlegmy cough</th>\n",
       "      <td>0.080738</td>\n",
       "      <td>0.046957</td>\n",
       "    </tr>\n",
       "    <tr>\n",
       "      <th>Pleural Effusion：0 NO；1YES</th>\n",
       "      <td>0.044424</td>\n",
       "      <td>0.036235</td>\n",
       "    </tr>\n",
       "    <tr>\n",
       "      <th>Rhonchus or Wheeze：0 NO；1Left；2 right；3 two sides</th>\n",
       "      <td>0.043216</td>\n",
       "      <td>0.020626</td>\n",
       "    </tr>\n",
       "    <tr>\n",
       "      <th>Moist Crackles：0 NO；1 Left；2 Right；3 Two sides</th>\n",
       "      <td>0.041961</td>\n",
       "      <td>0.018807</td>\n",
       "    </tr>\n",
       "  </tbody>\n",
       "</table>\n",
       "</div>"
      ],
      "text/plain": [
       "                                                    importance  \\\n",
       "Three Concave Sign（<=1/3 is mild；1：multiple lob...    0.560946   \n",
       "Cough Nature：0 without cough；1dry cough；2 phleg...    0.080738   \n",
       "Pleural Effusion：0 NO；1YES                            0.044424   \n",
       "Rhonchus or Wheeze：0 NO；1Left；2 right；3 two sides     0.043216   \n",
       "Moist Crackles：0 NO；1 Left；2 Right；3 Two sides        0.041961   \n",
       "\n",
       "                                                    standard deviation  \n",
       "Three Concave Sign（<=1/3 is mild；1：multiple lob...            0.116145  \n",
       "Cough Nature：0 without cough；1dry cough；2 phleg...            0.046957  \n",
       "Pleural Effusion：0 NO；1YES                                    0.036235  \n",
       "Rhonchus or Wheeze：0 NO；1Left；2 right；3 two sides             0.020626  \n",
       "Moist Crackles：0 NO；1 Left；2 Right；3 Two sides                0.018807  "
      ]
     },
     "execution_count": 54,
     "metadata": {},
     "output_type": "execute_result"
    }
   ],
   "source": [
    "importance_df.head()"
   ]
  },
  {
   "cell_type": "code",
   "execution_count": 55,
   "metadata": {},
   "outputs": [],
   "source": [
    "importances = model_GBDT.estimators_[1].feature_importances_\n",
    "std = np.std([tree.feature_importances_ for tree in model_GBDT.estimators_],\n",
    "             axis=0)\n",
    "importance_map = {'importance': importances, 'standard deviation': std}\n",
    "importance_df = pd.DataFrame(importance_map, columns = ['importance', 'standard deviation'], index = X.columns)\n",
    "importance_df = importance_df.sort_values('importance', ascending= False)"
   ]
  },
  {
   "cell_type": "code",
   "execution_count": 56,
   "metadata": {},
   "outputs": [
    {
     "data": {
      "text/html": [
       "<div>\n",
       "<style scoped>\n",
       "    .dataframe tbody tr th:only-of-type {\n",
       "        vertical-align: middle;\n",
       "    }\n",
       "\n",
       "    .dataframe tbody tr th {\n",
       "        vertical-align: top;\n",
       "    }\n",
       "\n",
       "    .dataframe thead th {\n",
       "        text-align: right;\n",
       "    }\n",
       "</style>\n",
       "<table border=\"1\" class=\"dataframe\">\n",
       "  <thead>\n",
       "    <tr style=\"text-align: right;\">\n",
       "      <th></th>\n",
       "      <th>importance</th>\n",
       "      <th>standard deviation</th>\n",
       "    </tr>\n",
       "  </thead>\n",
       "  <tbody>\n",
       "    <tr>\n",
       "      <th>Three Concave Sign（&lt;=1/3 is mild；1：multiple lobar involvement are severe）：1 mild；2 severe</th>\n",
       "      <td>0.592669</td>\n",
       "      <td>0.096458</td>\n",
       "    </tr>\n",
       "    <tr>\n",
       "      <th>Cough Nature：0 without cough；1dry cough；2 phlegmy cough</th>\n",
       "      <td>0.095358</td>\n",
       "      <td>0.053927</td>\n",
       "    </tr>\n",
       "    <tr>\n",
       "      <th>Pleural Effusion：0 NO；1YES</th>\n",
       "      <td>0.049189</td>\n",
       "      <td>0.036638</td>\n",
       "    </tr>\n",
       "    <tr>\n",
       "      <th>Rhonchus or Wheeze：0 NO；1Left；2 right；3 two sides</th>\n",
       "      <td>0.045243</td>\n",
       "      <td>0.024976</td>\n",
       "    </tr>\n",
       "    <tr>\n",
       "      <th>Moist Crackles：0 NO；1 Left；2 Right；3 Two sides</th>\n",
       "      <td>0.039682</td>\n",
       "      <td>0.027367</td>\n",
       "    </tr>\n",
       "  </tbody>\n",
       "</table>\n",
       "</div>"
      ],
      "text/plain": [
       "                                                    importance  \\\n",
       "Three Concave Sign（<=1/3 is mild；1：multiple lob...    0.592669   \n",
       "Cough Nature：0 without cough；1dry cough；2 phleg...    0.095358   \n",
       "Pleural Effusion：0 NO；1YES                            0.049189   \n",
       "Rhonchus or Wheeze：0 NO；1Left；2 right；3 two sides     0.045243   \n",
       "Moist Crackles：0 NO；1 Left；2 Right；3 Two sides        0.039682   \n",
       "\n",
       "                                                    standard deviation  \n",
       "Three Concave Sign（<=1/3 is mild；1：multiple lob...            0.096458  \n",
       "Cough Nature：0 without cough；1dry cough；2 phleg...            0.053927  \n",
       "Pleural Effusion：0 NO；1YES                                    0.036638  \n",
       "Rhonchus or Wheeze：0 NO；1Left；2 right；3 two sides             0.024976  \n",
       "Moist Crackles：0 NO；1 Left；2 Right；3 Two sides                0.027367  "
      ]
     },
     "execution_count": 56,
     "metadata": {},
     "output_type": "execute_result"
    }
   ],
   "source": [
    "importance_df.head()"
   ]
  }
 ],
 "metadata": {
  "kernelspec": {
   "display_name": "Python 3",
   "language": "python",
   "name": "python3"
  },
  "language_info": {
   "codemirror_mode": {
    "name": "ipython",
    "version": 3
   },
   "file_extension": ".py",
   "mimetype": "text/x-python",
   "name": "python",
   "nbconvert_exporter": "python",
   "pygments_lexer": "ipython3",
   "version": "3.8.3"
  }
 },
 "nbformat": 4,
 "nbformat_minor": 2
}
